{
 "cells": [
  {
   "cell_type": "code",
   "execution_count": null,
   "id": "f3108512",
   "metadata": {},
   "outputs": [],
   "source": [
    "# Install necessary packages\n",
    "!pip install yahoo_fin\n",
    "!pip install yfinance"
   ]
  },
  {
   "cell_type": "code",
   "execution_count": 1,
   "id": "0111a22c",
   "metadata": {},
   "outputs": [],
   "source": [
    "# import libraries\n",
    "import yfinance as yf\n",
    "import pandas as pd"
   ]
  },
  {
   "cell_type": "code",
   "execution_count": 10,
   "id": "48bab875",
   "metadata": {},
   "outputs": [],
   "source": [
    "# Company ticker\n",
    "TICKERS = ['TSLA']"
   ]
  },
  {
   "cell_type": "code",
   "execution_count": 3,
   "id": "cf6bd40e",
   "metadata": {},
   "outputs": [],
   "source": [
    "def get_financial_statements(ticker, save_to_csv = False):\n",
    "    stock = yf.Ticker(ticker)\n",
    "    balance_sheet = stock.balance_sheet\n",
    "    income_statement = stock.income_stmt\n",
    "    cashflow_statement = stock.cashflow\n",
    "    years = balance_sheet.columns\n",
    "    \n",
    "    if save_to_csv:\n",
    "    # Save to CSV\n",
    "        balance_sheet.to_csv(f\"{ticker}_balance_sheet.csv\")\n",
    "        income_statement.to_csv(f\"{ticker}_income_statement.csv\")\n",
    "        cashflow_statement.to_csv(f\"{ticker}_cashflow_statement.csv\")\n",
    "    \n",
    "    return balance_sheet,income_statement,cashflow_statement, years"
   ]
  },
  {
   "cell_type": "markdown",
   "id": "5d9a0e06",
   "metadata": {},
   "source": [
    "## Profitability Criteria"
   ]
  },
  {
   "cell_type": "code",
   "execution_count": 4,
   "id": "7802fe62",
   "metadata": {},
   "outputs": [],
   "source": [
    "def probability_score(balance_sheet,income_statement,cashflow_statement, years):\n",
    "    # Score 1 - Positive RoA or we check NI. Beacuse Assets are always +ve\n",
    "    net_income = income_statement[years[0]]['Net Income']\n",
    "    \n",
    "    # Score 2 - Postive RoA in cy - more than this higher than py NI would worth to see.\n",
    "    net_income_py = income_statement[years[1]]['Net Income']\n",
    "\n",
    "    \n",
    "    # Score 3 -  Positive operating cashflow in the cy\n",
    "    op_cf = cashflow_statement[years[0]]['Cash Flow From Continuing Operating Activities']\n",
    "\n",
    "    \n",
    "    # Score 4 - Change in RoA (Revene/Total Assests)-> when aking BS stuufs it is always better to get Avg.\n",
    "    avg_assets = (balance_sheet[years[0]]['Total Assets']+ \n",
    "                  balance_sheet[years[1]]['Total Assets'])/2\n",
    "    avg_assets_py = (balance_sheet[years[1]]['Total Assets']+ \n",
    "                     balance_sheet[years[1]]['Total Assets'])/2\n",
    "    \n",
    "    RoA = net_income/avg_assets\n",
    "    RoA_py = net_income_py/ avg_assets_py\n",
    "\n",
    "    \n",
    "    # Score 5 - Accruals (Quality of the Earnings)  (operating cashflow/Total Assests)-RoA (Here we are comparring cash based performance to accruals based perfomance)\n",
    "    total_assets = balance_sheet[years[0]]['Total Assets']\n",
    "    accruals_ratio = (op_cf/total_assets) - RoA\n",
    "\n",
    "    return sum([\n",
    "        net_income > 0,\n",
    "        net_income > net_income_py,\n",
    "        op_cf > 0,\n",
    "        RoA > RoA_py,\n",
    "        accruals_ratio > 0\n",
    "    ])"
   ]
  },
  {
   "cell_type": "markdown",
   "id": "118bbe98",
   "metadata": {},
   "source": [
    "## Leverage, Liquidity, and Source of Funds Criteria"
   ]
  },
  {
   "cell_type": "code",
   "execution_count": 5,
   "id": "eeff4be8",
   "metadata": {},
   "outputs": [],
   "source": [
    "def leverage_score(balance_sheet,years):\n",
    "    # Score 6 - Rather than checking whether long-term debt has reduced, i would prefer to give 1 point if debt ratio is below 0.4\n",
    "    try:\n",
    "        LT_debt = balance_sheet[years[0]]['Long Term Debt']\n",
    "        total_assets = balance_sheet[years[0]]['Total Assets']\n",
    "        debt_ratio = LT_debt / total_assets\n",
    "        debt_ratio_score = 1 if debt_ratio < 0.4 else 0\n",
    "    except:\n",
    "        debt_ratio_score = 1\n",
    "    # or I can see the changes in debt_ratio.....\n",
    "    \n",
    "    # Score 7 - Current Ratio (Or might sometimes check the changes in current Ratio)\n",
    "    current_assets = balance_sheet[years[0]]['Current Assets']\n",
    "    current_liabilities = balance_sheet[years[0]]['Current Liabilities']\n",
    "    current_ratio = current_assets / current_liabilities\n",
    "    current_ratio_score = 1 if current_ratio > 1 else 0\n",
    "    \n",
    "    # Score 8 New shares issued?\n",
    "    \n",
    "    return debt_ratio_score + current_ratio_score"
   ]
  },
  {
   "cell_type": "markdown",
   "id": "b11f079a",
   "metadata": {},
   "source": [
    "## Operating Efficiency Criteria"
   ]
  },
  {
   "cell_type": "code",
   "execution_count": 6,
   "id": "67aa6153",
   "metadata": {},
   "outputs": [],
   "source": [
    "def operating_efficiency(balance_sheet,income_statement, years):\n",
    "    # Score 8 - change in gross margin\n",
    "    gp = income_statement[years[0]]['Gross Profit']\n",
    "    gp_py = income_statement[years[1]]['Gross Profit']\n",
    "    \n",
    "    revenue = income_statement[years[0]]['Total Revenue']\n",
    "    revenue_py = income_statement[years[1]]['Total Revenue']\n",
    "    \n",
    "    gp_margin = (gp/revenue)\n",
    "    gp_margin_py = gp_py/revenue_py\n",
    "    \n",
    "    # Score 9 Change in Assets Turnover\n",
    "    avg_assets = (balance_sheet[years[0]]['Total Assets']+\n",
    "                  balance_sheet[years[1]]['Total Assets'])/2\n",
    "    \n",
    "    avg_assets_py = (balance_sheet[years[1]]['Total Assets']+\n",
    "                  balance_sheet[years[2]]['Total Assets'])/2\n",
    "    assets_turnover = revenue/avg_assets\n",
    "    assets_turnover_py = revenue_py/avg_assets_py\n",
    "    \n",
    "    return sum([\n",
    "        gp_margin > gp_margin_py,\n",
    "        assets_turnover > assets_turnover_py\n",
    "    ])"
   ]
  },
  {
   "cell_type": "code",
   "execution_count": 7,
   "id": "7bb8cfbe",
   "metadata": {},
   "outputs": [],
   "source": [
    "# Calculate P/E artio with error handling.\n",
    "def get_pe_ratio(stock):\n",
    "    try:\n",
    "        pe_ratio = stock.info.get('trailingPE')\n",
    "        return pe_ratio if pe_ratio is not None else \"N/A\"\n",
    "    except Exception as e:\n",
    "        return f\"Error: {str(e)}\""
   ]
  },
  {
   "cell_type": "code",
   "execution_count": 8,
   "id": "4b7e6349",
   "metadata": {},
   "outputs": [],
   "source": [
    "def analyse_stock(ticker):\n",
    "    try:\n",
    "        stock = yf.Ticker(ticker)\n",
    "        balance_sheet, income_statement, cashflow_statement, years = get_financial_statements(ticker)\n",
    "        \n",
    "        pe_ratio = get_pe_ratio(stock)\n",
    "        profitability_score = probability_score(balance_sheet,income_statement,cashflow_statement, years)\n",
    "        leveragescore = leverage_score(balance_sheet, years)\n",
    "        operating_efficiency_score = operating_efficiency(balance_sheet,income_statement, years)\n",
    "        \n",
    "        return {\n",
    "            'Ticker': ticker,\n",
    "            'PE Ratio': pe_ratio,\n",
    "            'Profitability': profitability_score,\n",
    "            'Leverage': leveragescore,\n",
    "            'Operating Efficiency': operating_efficiency_score\n",
    "        }\n",
    "    except Exception as e:\n",
    "        print(f\"{ticker}: Something went wrong - {str(e)}\")\n",
    "        return None\n",
    "\n",
    "def analyse_stocks(tickers):\n",
    "    summary = pd.DataFrame(columns=['Ticker', 'PE Ratio', 'Profitability', 'Leverage', 'Operating Efficiency'])\n",
    "    \n",
    "    for ticker in tickers:\n",
    "        result = analyse_stock(ticker)\n",
    "        if result:\n",
    "            summary = pd.concat([summary, pd.DataFrame([result])], ignore_index=True)\n",
    "            print(f\"{ticker} added.\")\n",
    "        else:\n",
    "            print(f\"{ticker} skipped due to errors.\")\n",
    "    \n",
    "    if not summary.empty:\n",
    "        summary['Total_Score'] = summary[['Profitability', 'Leverage', 'Operating Efficiency']].sum(axis=1)\n",
    "    return summary\n"
   ]
  },
  {
   "cell_type": "code",
   "execution_count": 11,
   "id": "426add64",
   "metadata": {},
   "outputs": [
    {
     "name": "stdout",
     "output_type": "stream",
     "text": [
      "TSLA added.\n"
     ]
    },
    {
     "data": {
      "text/html": [
       "<div>\n",
       "<style scoped>\n",
       "    .dataframe tbody tr th:only-of-type {\n",
       "        vertical-align: middle;\n",
       "    }\n",
       "\n",
       "    .dataframe tbody tr th {\n",
       "        vertical-align: top;\n",
       "    }\n",
       "\n",
       "    .dataframe thead th {\n",
       "        text-align: right;\n",
       "    }\n",
       "</style>\n",
       "<table border=\"1\" class=\"dataframe\">\n",
       "  <thead>\n",
       "    <tr style=\"text-align: right;\">\n",
       "      <th></th>\n",
       "      <th>Ticker</th>\n",
       "      <th>PE Ratio</th>\n",
       "      <th>Profitability</th>\n",
       "      <th>Leverage</th>\n",
       "      <th>Operating Efficiency</th>\n",
       "      <th>Total_Score</th>\n",
       "    </tr>\n",
       "  </thead>\n",
       "  <tbody>\n",
       "    <tr>\n",
       "      <th>0</th>\n",
       "      <td>TSLA</td>\n",
       "      <td>59.72269</td>\n",
       "      <td>4</td>\n",
       "      <td>2</td>\n",
       "      <td>0</td>\n",
       "      <td>6</td>\n",
       "    </tr>\n",
       "  </tbody>\n",
       "</table>\n",
       "</div>"
      ],
      "text/plain": [
       "  Ticker  PE Ratio Profitability Leverage Operating Efficiency Total_Score\n",
       "0   TSLA  59.72269             4        2                    0           6"
      ]
     },
     "execution_count": 11,
     "metadata": {},
     "output_type": "execute_result"
    }
   ],
   "source": [
    "result_summary = analyse_stocks(TICKERS)\n",
    "result_summary"
   ]
  },
  {
   "cell_type": "code",
   "execution_count": null,
   "id": "57a11cde",
   "metadata": {},
   "outputs": [],
   "source": []
  }
 ],
 "metadata": {
  "kernelspec": {
   "display_name": "Python 3 (ipykernel)",
   "language": "python",
   "name": "python3"
  },
  "language_info": {
   "codemirror_mode": {
    "name": "ipython",
    "version": 3
   },
   "file_extension": ".py",
   "mimetype": "text/x-python",
   "name": "python",
   "nbconvert_exporter": "python",
   "pygments_lexer": "ipython3",
   "version": "3.11.5"
  }
 },
 "nbformat": 4,
 "nbformat_minor": 5
}
